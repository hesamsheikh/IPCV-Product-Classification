{
 "cells": [
  {
   "cell_type": "markdown",
   "metadata": {
    "id": "MNBgGYg_lpVN"
   },
   "source": [
    "# Assignment Module 2: Product Classification\n",
    "\n",
    "The goal of this assignment is to implement a neural network that classifies smartphone pictures of products found in grocery stores. The assignment will be divided into two parts: first, you will be asked to implement from scratch your own neural network for image classification; then, you will fine-tune a pretrained network provided by PyTorch.\n"
   ]
  },
  {
   "cell_type": "markdown",
   "metadata": {
    "id": "dVTQUJ4uYH1w"
   },
   "source": [
    "## Preliminaries: the dataset\n",
    "\n",
    "The dataset you will be using contains natural images of products taken with a smartphone camera in different grocery stores:\n",
    "\n",
    "<p align=\"center\">\n",
    "  <img src=\"https://github.com/marcusklasson/GroceryStoreDataset/raw/master/sample_images/natural/Granny-Smith.jpg\" width=\"150\">\n",
    "  <img src=\"https://github.com/marcusklasson/GroceryStoreDataset/raw/master/sample_images/natural/Pink-Lady.jpg\" width=\"150\">\n",
    "  <img src=\"https://github.com/marcusklasson/GroceryStoreDataset/raw/master/sample_images/natural/Lemon.jpg\" width=\"150\">\n",
    "  <img src=\"https://github.com/marcusklasson/GroceryStoreDataset/raw/master/sample_images/natural/Banana.jpg\" width=\"150\">\n",
    "  <img src=\"https://github.com/marcusklasson/GroceryStoreDataset/raw/master/sample_images/natural/Vine-Tomato.jpg\" width=\"150\">\n",
    "</p>\n",
    "<p align=\"center\">\n",
    "  <img src=\"https://github.com/marcusklasson/GroceryStoreDataset/raw/master/sample_images/natural/Yellow-Onion.jpg\" width=\"150\">\n",
    "  <img src=\"https://github.com/marcusklasson/GroceryStoreDataset/raw/master/sample_images/natural/Green-Bell-Pepper.jpg\" width=\"150\">\n",
    "  <img src=\"https://github.com/marcusklasson/GroceryStoreDataset/raw/master/sample_images/natural/Arla-Standard-Milk.jpg\" width=\"150\">\n",
    "  <img src=\"https://github.com/marcusklasson/GroceryStoreDataset/raw/master/sample_images/natural/Oatly-Natural-Oatghurt.jpg\" width=\"150\">\n",
    "  <img src=\"https://github.com/marcusklasson/GroceryStoreDataset/raw/master/sample_images/natural/Alpro-Fresh-Soy-Milk.jpg\" width=\"150\">\n",
    "</p>\n",
    "\n",
    "The products belong to the following 43 classes:\n",
    "```\n",
    "0.  Apple\n",
    "1.  Avocado\n",
    "2.  Banana\n",
    "3.  Kiwi\n",
    "4.  Lemon\n",
    "5.  Lime\n",
    "6.  Mango\n",
    "7.  Melon\n",
    "8.  Nectarine\n",
    "9.  Orange\n",
    "10. Papaya\n",
    "11. Passion-Fruit\n",
    "12. Peach\n",
    "13. Pear\n",
    "14. Pineapple\n",
    "15. Plum\n",
    "16. Pomegranate\n",
    "17. Red-Grapefruit\n",
    "18. Satsumas\n",
    "19. Juice\n",
    "20. Milk\n",
    "21. Oatghurt\n",
    "22. Oat-Milk\n",
    "23. Sour-Cream\n",
    "24. Sour-Milk\n",
    "25. Soyghurt\n",
    "26. Soy-Milk\n",
    "27. Yoghurt\n",
    "28. Asparagus\n",
    "29. Aubergine\n",
    "30. Cabbage\n",
    "31. Carrots\n",
    "32. Cucumber\n",
    "33. Garlic\n",
    "34. Ginger\n",
    "35. Leek\n",
    "36. Mushroom\n",
    "37. Onion\n",
    "38. Pepper\n",
    "39. Potato\n",
    "40. Red-Beet\n",
    "41. Tomato\n",
    "42. Zucchini\n",
    "```\n",
    "\n",
    "The dataset is split into training (`train`), validation (`val`), and test (`test`) set."
   ]
  },
  {
   "cell_type": "markdown",
   "metadata": {
    "id": "1pdrmJRnJPd8"
   },
   "source": [
    "The following code cells download the dataset and define a `torch.utils.data.Dataset` class to access it. This `Dataset` class will be the starting point of your assignment: use it in your own code and build everything else around it."
   ]
  },
  {
   "cell_type": "code",
   "execution_count": 1,
   "metadata": {
    "id": "POMX_3x-_bZI",
    "ExecuteTime": {
     "end_time": "2024-06-01T17:53:56.281727500Z",
     "start_time": "2024-06-01T17:53:45.847193700Z"
    }
   },
   "outputs": [
    {
     "name": "stderr",
     "output_type": "stream",
     "text": [
      "Cloning into 'GroceryStoreDataset'...\n",
      "Updating files:  33% (1902/5717)\n",
      "Updating files:  34% (1944/5717)\n",
      "Updating files:  35% (2001/5717)\n",
      "Updating files:  36% (2059/5717)\n",
      "Updating files:  37% (2116/5717)\n",
      "Updating files:  38% (2173/5717)\n",
      "Updating files:  39% (2230/5717)\n",
      "Updating files:  40% (2287/5717)\n",
      "Updating files:  41% (2344/5717)\n",
      "Updating files:  42% (2402/5717)\n",
      "Updating files:  43% (2459/5717)\n",
      "Updating files:  44% (2516/5717)\n",
      "Updating files:  45% (2573/5717)\n",
      "Updating files:  46% (2630/5717)\n",
      "Updating files:  47% (2687/5717)\n",
      "Updating files:  48% (2745/5717)\n",
      "Updating files:  49% (2802/5717)\n",
      "Updating files:  50% (2859/5717)\n",
      "Updating files:  51% (2916/5717)\n",
      "Updating files:  52% (2973/5717)\n",
      "Updating files:  53% (3031/5717)\n",
      "Updating files:  54% (3088/5717)\n",
      "Updating files:  55% (3145/5717)\n",
      "Updating files:  56% (3202/5717)\n",
      "Updating files:  57% (3259/5717)\n",
      "Updating files:  58% (3316/5717)\n",
      "Updating files:  59% (3374/5717)\n",
      "Updating files:  60% (3431/5717)\n",
      "Updating files:  61% (3488/5717)\n",
      "Updating files:  62% (3545/5717)\n",
      "Updating files:  63% (3602/5717)\n",
      "Updating files:  64% (3659/5717)\n",
      "Updating files:  65% (3717/5717)\n",
      "Updating files:  66% (3774/5717)\n",
      "Updating files:  67% (3831/5717)\n",
      "Updating files:  68% (3888/5717)\n",
      "Updating files:  69% (3945/5717)\n",
      "Updating files:  70% (4002/5717)\n",
      "Updating files:  71% (4060/5717)\n",
      "Updating files:  72% (4117/5717)\n",
      "Updating files:  72% (4119/5717)\n",
      "Updating files:  73% (4174/5717)\n",
      "Updating files:  74% (4231/5717)\n",
      "Updating files:  75% (4288/5717)\n",
      "Updating files:  76% (4345/5717)\n",
      "Updating files:  77% (4403/5717)\n",
      "Updating files:  78% (4460/5717)\n",
      "Updating files:  79% (4517/5717)\n",
      "Updating files:  80% (4574/5717)\n",
      "Updating files:  81% (4631/5717)\n",
      "Updating files:  82% (4688/5717)\n",
      "Updating files:  83% (4746/5717)\n",
      "Updating files:  84% (4803/5717)\n",
      "Updating files:  85% (4860/5717)\n",
      "Updating files:  86% (4917/5717)\n",
      "Updating files:  87% (4974/5717)\n",
      "Updating files:  88% (5031/5717)\n",
      "Updating files:  89% (5089/5717)\n",
      "Updating files:  90% (5146/5717)\n",
      "Updating files:  91% (5203/5717)\n",
      "Updating files:  92% (5260/5717)\n",
      "Updating files:  93% (5317/5717)\n",
      "Updating files:  94% (5374/5717)\n",
      "Updating files:  95% (5432/5717)\n",
      "Updating files:  96% (5489/5717)\n",
      "Updating files:  97% (5546/5717)\n",
      "Updating files:  98% (5603/5717)\n",
      "Updating files:  99% (5660/5717)\n",
      "Updating files: 100% (5717/5717)\n",
      "Updating files: 100% (5717/5717), done.\n"
     ]
    }
   ],
   "source": [
    "!git clone https://github.com/marcusklasson/GroceryStoreDataset.git"
   ]
  },
  {
   "cell_type": "code",
   "execution_count": 1,
   "metadata": {
    "id": "hiF8xGEYlsu8",
    "ExecuteTime": {
     "end_time": "2024-06-02T16:22:41.772897700Z",
     "start_time": "2024-06-02T16:22:29.885331200Z"
    }
   },
   "outputs": [],
   "source": [
    "import torch\n",
    "from pathlib import Path\n",
    "from PIL import Image\n",
    "from torch import Tensor\n",
    "from torch.utils.data import Dataset, DataLoader\n",
    "from typing import List, Tuple\n",
    "import torchvision.transforms as T\n",
    "import matplotlib.pyplot as plt\n",
    "from torchsummary import summary\n",
    "import torch.nn as nn\n",
    "import torch.nn.functional as F\n"
   ]
  },
  {
   "cell_type": "code",
   "execution_count": 144,
   "metadata": {
    "id": "jROSO2qVDxdD",
    "ExecuteTime": {
     "end_time": "2024-06-02T18:33:05.896061200Z",
     "start_time": "2024-06-02T18:33:05.793199200Z"
    }
   },
   "outputs": [],
   "source": [
    "class GroceryStoreDataset(Dataset):\n",
    "\n",
    "    def __init__(self, split: str, transform=None) -> None:\n",
    "        super().__init__()\n",
    "\n",
    "        self.root = Path(\"GroceryStoreDataset/dataset\")\n",
    "        self.split = split\n",
    "        self.paths, self.labels = self.read_file()\n",
    "\n",
    "        self.transform = transform\n",
    "\n",
    "    def __len__(self) -> int:\n",
    "        return len(self.labels)\n",
    "\n",
    "    def __getitem__(self, idx) -> Tuple[Tensor, int]:\n",
    "        img = Image.open(self.root / self.paths[idx])\n",
    "        label = self.labels[idx]\n",
    "\n",
    "        if self.transform:\n",
    "            img = self.transform(img)\n",
    "\n",
    "        return img, label\n",
    "\n",
    "    def read_file(self) -> Tuple[List[str], List[int]]:\n",
    "        paths = []\n",
    "        labels = []\n",
    "\n",
    "        with open(self.root / f\"{self.split}.txt\") as f:\n",
    "            for line in f:\n",
    "                # path, fine-grained class, coarse-grained class\n",
    "                path, _, label = line.replace(\"\\n\", \"\").split(\", \")\n",
    "                paths.append(path), labels.append(int(label))\n",
    "\n",
    "        return paths, labels\n",
    "\n",
    "    def get_num_classes(self) -> int:\n",
    "        return max(self.labels) + 1"
   ]
  },
  {
   "cell_type": "markdown",
   "metadata": {
    "id": "yBch3dpwNSsW"
   },
   "source": [
    "## Part 1: design your own network\n",
    "\n",
    "Your goal is to implement a convolutional neural network for image classification and train it on `GroceryStoreDataset`. You should consider yourselves satisfied once you obtain a classification accuracy on the **validation** split of **around 60%**. You are free to achieve that however you want, except for a few rules you must follow:\n",
    "\n",
    "- You **cannot** simply instantiate an off-the-self PyTorch network. Instead, you must construct your network as a composition of existing PyTorch layers. In more concrete terms, you can use e.g. `torch.nn.Linear`, but you **cannot** use e.g. `torchvision.models.alexnet`.\n",
    "\n",
    "- Justify every *design choice* you make. Design choices include network architecture, training hyperparameters, and, possibly, dataset preprocessing steps. You can either (i) start from the simplest convolutional network you can think of and add complexity one step at a time, while showing how each step gets you closer to the target ~60%, or (ii) start from a model that is already able to achieve the desired accuracy and show how, by removing some of its components, its performance drops (i.e. an *ablation study*). You can *show* your results/improvements however you want: training plots, console-printed values or tables, or whatever else your heart desires: the clearer, the better.\n",
    "\n",
    "Don't be too concerned with your network performance: the ~60% is just to give you an idea of when to stop. Keep in mind that a thoroughly justified model with lower accuracy will be rewarded **more** points than a poorly experimentally validated model with higher accuracy."
   ]
  },
  {
   "cell_type": "code",
   "outputs": [],
   "source": [
    "def train_one_epoch(epoch_index, model, dataloader, optimizer, loss_fn):\n",
    "    model.train()\n",
    "    running_loss = 0.0\n",
    "    for inputs, labels in dataloader:\n",
    "        optimizer.zero_grad()\n",
    "        inputs, labels = inputs.to(device), labels.to(device)\n",
    "        outputs = model(inputs)\n",
    "        loss = loss_fn(outputs, labels)\n",
    "        loss.backward()\n",
    "        optimizer.step()\n",
    "        running_loss += loss.item()\n",
    "    \n",
    "    train_loss = running_loss/len(dataloader)\n",
    "    print(f'Epoch {epoch_index+1}, Loss: {train_loss}')\n",
    "    return train_loss"
   ],
   "metadata": {
    "collapsed": false,
    "ExecuteTime": {
     "end_time": "2024-06-02T18:33:06.215465300Z",
     "start_time": "2024-06-02T18:33:06.210280600Z"
    }
   },
   "execution_count": 145
  },
  {
   "cell_type": "code",
   "outputs": [],
   "source": [
    "def get_validation_acc(epoch_index, model, dataloader):\n",
    "    # Validation\n",
    "    model.eval()\n",
    "    correct = 0\n",
    "    total = 0\n",
    "    with torch.no_grad():\n",
    "        for inputs, labels in dataloader:\n",
    "            inputs, labels = inputs.to(device), labels.to(device)\n",
    "            outputs = model(inputs)\n",
    "            _, predicted = torch.max(outputs.data, 1)\n",
    "            total += labels.size(0)\n",
    "            correct += (predicted == labels).sum().item()\n",
    "    \n",
    "    val_acc = 100 * correct / total\n",
    "    print(f'Epoch {epoch_index+1} Validation Accuracy: {val_acc}%')\n",
    "    return val_acc"
   ],
   "metadata": {
    "collapsed": false,
    "ExecuteTime": {
     "end_time": "2024-06-02T18:33:06.465260500Z",
     "start_time": "2024-06-02T18:33:06.449690700Z"
    }
   },
   "execution_count": 146
  },
  {
   "cell_type": "code",
   "outputs": [],
   "source": [
    "def train_and_validation(model, number_of_epochs, optimizer, loss_fn, train_dataloader, val_dataloader, scheduler=None):\n",
    "    # Training loop with combined plotting\n",
    "    n_epochs = number_of_epochs\n",
    "    train_acc = []\n",
    "    val_acc = []\n",
    "    train_losses = []\n",
    "    val_losses = []\n",
    "    \n",
    "    for epoch_index in range(n_epochs):\n",
    "        train_loss = train_one_epoch(epoch_index, model, train_dataloader, optimizer, loss_fn)\n",
    "        val_accuracy = get_validation_acc(epoch_index, model, val_dataloader)\n",
    "        val_acc.append(val_accuracy)\n",
    "        train_losses.append(train_loss)\n",
    "        \n",
    "        if scheduler:\n",
    "            # Step the scheduler\n",
    "            scheduler.step(val_accuracy)\n",
    "            \n",
    "    return train_acc, val_acc, train_losses, val_losses"
   ],
   "metadata": {
    "collapsed": false,
    "ExecuteTime": {
     "end_time": "2024-06-02T18:33:55.649290Z",
     "start_time": "2024-06-02T18:33:55.545086200Z"
    }
   },
   "execution_count": 154
  },
  {
   "cell_type": "code",
   "outputs": [],
   "source": [
    "def report_metrics(n_epochs, train_acc, val_acc):\n",
    "    print(f\"Best Validation Score: {max(val_acc)}\")\n",
    "    # Plotting the accuracies and losses\n",
    "    plt.figure(figsize=(14, 7))\n",
    "    \n",
    "    # Plot accuracy\n",
    "    plt.plot(range(n_epochs), train_acc, label='Training Accuracy')\n",
    "    plt.plot(range(n_epochs), val_acc, label='Validation Accuracy')\n",
    "    plt.xlabel('Epochs')\n",
    "    plt.ylabel('Accuracy (%)')\n",
    "    plt.title('Training and Validation Accuracy')\n",
    "    plt.legend()\n",
    "    \n",
    "    plt.show()\n"
   ],
   "metadata": {
    "collapsed": false,
    "ExecuteTime": {
     "end_time": "2024-06-02T18:33:55.692703900Z",
     "start_time": "2024-06-02T18:33:55.682983900Z"
    }
   },
   "execution_count": 155
  },
  {
   "cell_type": "code",
   "outputs": [],
   "source": [
    "transform = transform = T.Compose([\n",
    "    T.Resize((128, 128)),\n",
    "    # T.RandomHorizontalFlip(),\n",
    "    # T.RandomRotation(10),\n",
    "    # T.ColorJitter(brightness=0.2, contrast=0.2, saturation=0.2, hue=0.2),\n",
    "    T.ToTensor(),\n",
    "    ])\n",
    "\n",
    "# Create Datasets\n",
    "train_dataset = GroceryStoreDataset(split='train', transform=transform)\n",
    "val_dataset = GroceryStoreDataset(split='val', transform=transform)\n",
    "\n",
    "# Create DataLoaders\n",
    "train_dataloader = DataLoader(train_dataset, batch_size=32, shuffle=True)\n",
    "val_dataloader = DataLoader(val_dataset, batch_size=32, shuffle=False)"
   ],
   "metadata": {
    "collapsed": false,
    "ExecuteTime": {
     "end_time": "2024-06-02T18:33:55.728667800Z",
     "start_time": "2024-06-02T18:33:55.705495Z"
    }
   },
   "execution_count": 156
  },
  {
   "cell_type": "code",
   "outputs": [],
   "source": [
    "class SimpleCNN_6conv_128x128(nn.Module):\n",
    "    def __init__(self, num_classes=43):\n",
    "        super(SimpleCNN_6conv_128x128, self).__init__()\n",
    "        self.conv1 = nn.Conv2d(in_channels=3, out_channels=16, kernel_size=3, padding=1)\n",
    "        self.conv2 = nn.Conv2d(in_channels=16, out_channels=32, kernel_size=3, stride=1, padding=1)\n",
    "        self.conv3 = nn.Conv2d(in_channels=32, out_channels=64, kernel_size=3, stride=1, padding=1)\n",
    "        self.conv4 = nn.Conv2d(in_channels=64, out_channels=96, kernel_size=3, stride=1, padding=1)\n",
    "        self.conv5 = nn.Conv2d(in_channels=96, out_channels=128, kernel_size=3, stride=1, padding=1)\n",
    "        self.conv6 = nn.Conv2d(in_channels=128, out_channels=128, kernel_size=3, stride=1, padding=1)\n",
    "\n",
    "        self.pool = nn.MaxPool2d(kernel_size=2, stride=2, padding=0)\n",
    "        self.flatten = nn.Flatten()\n",
    "        self.dropout = nn.Dropout(p=0.5)\n",
    "\n",
    "        self.fc1 = nn.Linear(in_features=128 * 2 * 2, out_features=128)\n",
    "        self.fc2 = nn.Linear(in_features=128, out_features=64)\n",
    "        self.fc3 = nn.Linear(in_features=64, out_features=num_classes)\n",
    "\n",
    "    def forward(self, x):\n",
    "        x = self.pool(F.relu(self.conv1(x)))\n",
    "        x = self.pool(F.relu(self.conv2(x)))\n",
    "        x = self.pool(F.relu(self.conv3(x)))\n",
    "        x = self.pool(F.relu(self.conv4(x)))\n",
    "        x = self.pool(F.relu(self.conv5(x)))\n",
    "        x = self.pool(F.relu(self.conv6(x)))\n",
    "\n",
    "        x = self.flatten(x)\n",
    "        x = self.dropout(F.relu(self.fc1(x)))\n",
    "        x = self.dropout(F.relu(self.fc2(x)))\n",
    "        x = self.fc3(x)\n",
    "\n",
    "        return x\n",
    "    \n",
    "class SimpleCNN_6conv_224x224(nn.Module):\n",
    "    def __init__(self, num_classes=43):\n",
    "        super(SimpleCNN_6conv_224x224, self).__init__()\n",
    "        self.conv1 = nn.Conv2d(in_channels=3, out_channels=16, kernel_size=3, padding=1)\n",
    "        self.conv2 = nn.Conv2d(in_channels=16, out_channels=32, kernel_size=3, stride=1, padding=1)\n",
    "        self.conv3 = nn.Conv2d(in_channels=32, out_channels=64, kernel_size=3, stride=1, padding=1)\n",
    "        self.conv4 = nn.Conv2d(in_channels=64, out_channels=96, kernel_size=3, stride=1, padding=1)\n",
    "        self.conv5 = nn.Conv2d(in_channels=96, out_channels=128, kernel_size=3, stride=1, padding=1)\n",
    "        self.conv6 = nn.Conv2d(in_channels=128, out_channels=128, kernel_size=3, stride=1, padding=1)\n",
    "\n",
    "        self.pool = nn.MaxPool2d(kernel_size=2, stride=2, padding=0)\n",
    "        self.flatten = nn.Flatten()\n",
    "        self.dropout = nn.Dropout(p=0.3)\n",
    "\n",
    "        self.fc1 = nn.Linear(in_features=128 * 4 * 4, out_features=256)\n",
    "        self.fc2 = nn.Linear(in_features=256, out_features=64)\n",
    "        self.fc3 = nn.Linear(in_features=64, out_features=num_classes)\n",
    "\n",
    "    def forward(self, x):\n",
    "        x = self.pool(F.relu(self.conv1(x)))\n",
    "        x = self.pool(F.relu(self.conv2(x)))\n",
    "        x = self.pool(F.relu(self.conv3(x)))\n",
    "        x = self.pool(F.relu(self.conv4(x)))\n",
    "        x = self.pool(F.relu(self.conv5(x)))\n",
    "        x = self.pool(F.relu(self.conv6(x)))\n",
    "\n",
    "        x = self.flatten(x)\n",
    "        x = self.dropout(F.relu(self.fc1(x)))\n",
    "        x = self.dropout(F.relu(self.fc2(x)))\n",
    "        x = self.fc3(x)\n",
    "\n",
    "        return x\n",
    "\n",
    "class CustomCNN(nn.Module):\n",
    "    def __init__(self, num_classes=43):\n",
    "        super(CustomCNN, self).__init__()\n",
    "        self.conv1 = nn.Conv2d(3, 64, kernel_size=3, padding=1)\n",
    "        self.conv2 = nn.Conv2d(64, 64, kernel_size=3, padding=1)\n",
    "        self.conv3 = nn.Conv2d(64, 128, kernel_size=3, padding=1)\n",
    "        self.conv4 = nn.Conv2d(128, 64, kernel_size=3, padding=1)\n",
    "        self.conv5 = nn.Conv2d(64, 32, kernel_size=3, padding=1)\n",
    "        \n",
    "        self.pool = nn.MaxPool2d(2, 2)\n",
    "        self.flatten = nn.Flatten()\n",
    "        self.dropout = nn.Dropout(0.40)\n",
    "\n",
    "        self.fc1 = nn.Linear(32 * 8 * 8 , 128)\n",
    "        self.fc2 = nn.Linear(128, 64)\n",
    "        self.fc3 = nn.Linear(64, 64)\n",
    "        self.fc4 = nn.Linear(64, num_classes)\n",
    "    \n",
    "    def forward(self, x):\n",
    "        x = self.pool(F.relu(self.conv1(x)))\n",
    "        x = self.pool(F.relu(self.conv2(x)))\n",
    "        x = self.pool(F.relu(self.conv3(x)))\n",
    "        x = self.pool(F.relu(self.conv4(x)))\n",
    "        x = self.pool(F.relu(self.conv5(x)))\n",
    "        \n",
    "        x = self.flatten(x)\n",
    "        x = self.dropout(F.relu(self.fc1(x)))\n",
    "        x = self.dropout(F.relu(self.fc2(x)))\n",
    "        x = self.dropout(F.relu(self.fc3(x)))\n",
    "        x = self.fc4(x)\n",
    "        \n",
    "        return x\n"
   ],
   "metadata": {
    "collapsed": false,
    "ExecuteTime": {
     "end_time": "2024-06-02T18:33:55.899440Z",
     "start_time": "2024-06-02T18:33:55.876290600Z"
    }
   },
   "execution_count": 157
  },
  {
   "cell_type": "code",
   "outputs": [
    {
     "name": "stdout",
     "output_type": "stream",
     "text": [
      "----------------------------------------------------------------\n",
      "        Layer (type)               Output Shape         Param #\n",
      "================================================================\n",
      "            Conv2d-1         [-1, 16, 128, 128]             448\n",
      "         MaxPool2d-2           [-1, 16, 64, 64]               0\n",
      "            Conv2d-3           [-1, 32, 64, 64]           4,640\n",
      "         MaxPool2d-4           [-1, 32, 32, 32]               0\n",
      "            Conv2d-5           [-1, 64, 32, 32]          18,496\n",
      "         MaxPool2d-6           [-1, 64, 16, 16]               0\n",
      "            Conv2d-7           [-1, 96, 16, 16]          55,392\n",
      "         MaxPool2d-8             [-1, 96, 8, 8]               0\n",
      "            Conv2d-9            [-1, 128, 8, 8]         110,720\n",
      "        MaxPool2d-10            [-1, 128, 4, 4]               0\n",
      "           Conv2d-11            [-1, 128, 4, 4]         147,584\n",
      "        MaxPool2d-12            [-1, 128, 2, 2]               0\n",
      "          Flatten-13                  [-1, 512]               0\n",
      "           Linear-14                  [-1, 128]          65,664\n",
      "          Dropout-15                  [-1, 128]               0\n",
      "           Linear-16                   [-1, 64]           8,256\n",
      "          Dropout-17                   [-1, 64]               0\n",
      "           Linear-18                   [-1, 43]           2,795\n",
      "================================================================\n",
      "Total params: 413,995\n",
      "Trainable params: 413,995\n",
      "Non-trainable params: 0\n",
      "----------------------------------------------------------------\n",
      "Input size (MB): 0.19\n",
      "Forward/backward pass size (MB): 4.71\n",
      "Params size (MB): 1.58\n",
      "Estimated Total Size (MB): 6.48\n",
      "----------------------------------------------------------------\n"
     ]
    }
   ],
   "source": [
    "device = torch.device('cuda' if torch.cuda.is_available() else 'cpu')\n",
    "model = SimpleCNN_6conv_128x128().to(device)\n",
    "summary(model, (3,128,128))"
   ],
   "metadata": {
    "collapsed": false,
    "ExecuteTime": {
     "end_time": "2024-06-02T18:33:56.148028600Z",
     "start_time": "2024-06-02T18:33:56.123637900Z"
    }
   },
   "execution_count": 158
  },
  {
   "cell_type": "code",
   "outputs": [],
   "source": [
    "# Optimizer, loss function, and learning rate scheduler\n",
    "optimizer = torch.optim.Adam(model.parameters(), lr=0.001, weight_decay=1e-4)\n",
    "loss_fn = nn.CrossEntropyLoss()\n",
    "scheduler = torch.optim.lr_scheduler.ReduceLROnPlateau(optimizer, mode='min',\n",
    "                                                 factor=0.8, patience=3, verbose=True)"
   ],
   "metadata": {
    "collapsed": false,
    "ExecuteTime": {
     "end_time": "2024-06-02T18:33:56.291385500Z",
     "start_time": "2024-06-02T18:33:56.283581700Z"
    }
   },
   "execution_count": 159
  },
  {
   "cell_type": "code",
   "outputs": [
    {
     "name": "stdout",
     "output_type": "stream",
     "text": [
      "Epoch 1, Loss: 3.598099975700838\n",
      "Epoch 0 Validation Accuracy: 9.797297297297296%\n",
      "Epoch 2, Loss: 3.4788262097232314\n",
      "Epoch 1 Validation Accuracy: 11.486486486486486%\n",
      "Epoch 3, Loss: 3.4389749636133033\n",
      "Epoch 2 Validation Accuracy: 10.135135135135135%\n",
      "Epoch 4, Loss: 3.390974900808679\n",
      "Epoch 3 Validation Accuracy: 12.5%\n",
      "Epoch 5, Loss: 3.1908907717969046\n",
      "Epoch 4 Validation Accuracy: 14.18918918918919%\n",
      "Epoch 6, Loss: 2.997129382857357\n",
      "Epoch 5 Validation Accuracy: 16.554054054054053%\n",
      "Epoch 7, Loss: 2.918528872800161\n",
      "Epoch 6 Validation Accuracy: 13.513513513513514%\n",
      "Epoch 8, Loss: 2.823962349489511\n",
      "Epoch 7 Validation Accuracy: 16.216216216216218%\n",
      "Epoch 9, Loss: 2.6998530209782614\n",
      "Epoch 8 Validation Accuracy: 17.905405405405407%\n",
      "Epoch 10, Loss: 2.562617138207677\n",
      "Epoch 9 Validation Accuracy: 19.93243243243243%\n",
      "Epoch 11, Loss: 2.499586820602417\n",
      "Epoch 10 Validation Accuracy: 23.31081081081081%\n",
      "Epoch 12, Loss: 2.395832810057215\n",
      "Epoch 11 Validation Accuracy: 22.635135135135137%\n",
      "Epoch 13, Loss: 2.357097479234259\n",
      "Epoch 12 Validation Accuracy: 21.62162162162162%\n",
      "Epoch 14, Loss: 2.2772912749324936\n",
      "Epoch 13 Validation Accuracy: 25.0%\n",
      "Epoch 15, Loss: 2.2217127156544882\n",
      "Epoch 14 Validation Accuracy: 26.35135135135135%\n",
      "Epoch 16, Loss: 2.141536333474768\n",
      "Epoch 15 Validation Accuracy: 24.66216216216216%\n",
      "Epoch 17, Loss: 2.0831260451351303\n",
      "Epoch 16 Validation Accuracy: 23.31081081081081%\n",
      "Epoch 18, Loss: 2.026844126632415\n",
      "Epoch 17 Validation Accuracy: 23.64864864864865%\n",
      "Epoch 19, Loss: 1.9674207790788398\n",
      "Epoch 18 Validation Accuracy: 25.675675675675677%\n",
      "Epoch 20, Loss: 1.9778968742094845\n",
      "Epoch 19 Validation Accuracy: 23.986486486486488%\n",
      "Epoch 21, Loss: 1.9334591081343502\n",
      "Epoch 20 Validation Accuracy: 26.35135135135135%\n",
      "Epoch 22, Loss: 1.8613773785441754\n",
      "Epoch 21 Validation Accuracy: 26.68918918918919%\n",
      "Epoch 23, Loss: 1.839198998658054\n",
      "Epoch 22 Validation Accuracy: 26.68918918918919%\n",
      "Epoch 24, Loss: 1.8011106539921589\n",
      "Epoch 23 Validation Accuracy: 25.0%\n",
      "Epoch 25, Loss: 1.7742699671940632\n",
      "Epoch 24 Validation Accuracy: 26.68918918918919%\n",
      "Epoch 26, Loss: 1.750413478138935\n",
      "Epoch 25 Validation Accuracy: 30.06756756756757%\n",
      "Epoch 27, Loss: 1.7465003743229142\n",
      "Epoch 26 Validation Accuracy: 26.35135135135135%\n"
     ]
    }
   ],
   "source": [
    "train_acc, val_acc, train_losses, val_losses = train_and_validation(model, 40, optimizer, loss_fn, train_dataloader, val_dataloader, scheduler)"
   ],
   "metadata": {
    "collapsed": false,
    "is_executing": true,
    "ExecuteTime": {
     "start_time": "2024-06-02T18:33:56.451233500Z"
    }
   },
   "execution_count": null
  },
  {
   "cell_type": "code",
   "outputs": [
    {
     "name": "stdout",
     "output_type": "stream",
     "text": [
      "Best Validation Score: 45.27027027027027\n"
     ]
    },
    {
     "data": {
      "text/plain": "<Figure size 1400x700 with 1 Axes>",
      "image/png": "[encoded data removed]"
     },
     "metadata": {},
     "output_type": "display_data"
    }
   ],
   "source": [
    "report_metrics(40, train_acc, val_acc)"
   ],
   "metadata": {
    "collapsed": false,
    "ExecuteTime": {
     "end_time": "2024-06-02T15:46:04.593592200Z",
     "start_time": "2024-06-02T15:46:04.458080Z"
    }
   },
   "execution_count": 79
  },
  {
   "cell_type": "markdown",
   "source": [
    "## Part 2: fine-tune an existing network\n",
    "\n",
    "Your goal is to fine-tune a pretrained **ResNet-18** model on `GroceryStoreDataset`. Use the implementation provided by PyTorch, do not implement it yourselves! (i.e. exactly what you **could not** do in the first part of the assignment). Specifically, you must use the PyTorch ResNet-18 model pretrained on ImageNet-1K (V1). Divide your fine-tuning into two parts:\n",
    "\n",
    "1. First, fine-tune the Resnet-18 with the same training hyperparameters you used for your best model in the first part of the assignment.\n",
    "1. Then, tweak the training hyperparameters in order to increase the accuracy on the validation split of `GroceryStoreDataset`. Justify your choices by analyzing the training plots and/or citing sources that guided you in your decisions (papers, blog posts, YouTube videos, or whatever else you find enlightening). You should consider yourselves satisfied once you obtain a classification accuracy on the **validation** split **between 80 and 90%**."
   ],
   "metadata": {
    "id": "gkWEqSPoUIL3"
   }
  },
  {
   "cell_type": "code",
   "outputs": [],
   "source": [
    "\n",
    "# Data Transforms\n",
    "transform = T.Compose([\n",
    "    T.Resize((224, 224)),  # ResNet expects 224x224 images\n",
    "    T.ToTensor(),\n",
    "    T.Normalize(mean=[0.485, 0.456, 0.406], std=[0.229, 0.224, 0.225]),\n",
    "])\n",
    "\n",
    "# Create Datasets\n",
    "train_dataset = GroceryStoreDataset(split='train', transform=transform)\n",
    "val_dataset = GroceryStoreDataset(split='val', transform=transform)\n",
    "\n",
    "# Create DataLoaders\n",
    "train_dataloader = DataLoader(train_dataset, batch_size=64, shuffle=True)\n",
    "val_dataloader = DataLoader(val_dataset, batch_size=32, shuffle=False)"
   ],
   "metadata": {
    "collapsed": false,
    "ExecuteTime": {
     "end_time": "2024-06-02T16:06:08.534007Z",
     "start_time": "2024-06-02T16:06:08.509833900Z"
    }
   },
   "execution_count": 92
  },
  {
   "cell_type": "code",
   "outputs": [],
   "source": [
    "from torchvision import datasets, models\n",
    "import torch.optim as optim"
   ],
   "metadata": {
    "collapsed": false,
    "ExecuteTime": {
     "end_time": "2024-06-02T16:06:10.107540700Z",
     "start_time": "2024-06-02T16:06:10.105315600Z"
    }
   },
   "execution_count": 93
  },
  {
   "cell_type": "code",
   "outputs": [
    {
     "name": "stderr",
     "output_type": "stream",
     "text": [
      "D:\\codebox\\virtual_env\\Lib\\site-packages\\torchvision\\models\\_utils.py:208: UserWarning: The parameter 'pretrained' is deprecated since 0.13 and may be removed in the future, please use 'weights' instead.\n",
      "  warnings.warn(\n",
      "D:\\codebox\\virtual_env\\Lib\\site-packages\\torchvision\\models\\_utils.py:223: UserWarning: Arguments other than a weight enum or `None` for 'weights' are deprecated since 0.13 and may be removed in the future. The current behavior is equivalent to passing `weights=ResNet18_Weights.IMAGENET1K_V1`. You can also use `weights=ResNet18_Weights.DEFAULT` to get the most up-to-date weights.\n",
      "  warnings.warn(msg)\n"
     ]
    }
   ],
   "source": [
    "# Load the pre-trained ResNet-18 model\n",
    "model = models.resnet18(pretrained=True)\n",
    "\n",
    "# Modify the final fully connected layer\n",
    "num_ftrs = model.fc.in_features\n",
    "model.fc = nn.Linear(num_ftrs, train_dataset.get_num_classes())\n",
    "\n",
    "device = torch.device('cuda' if torch.cuda.is_available() else 'cpu')\n",
    "model = model.to(device)\n",
    "\n",
    "# Optimizer, loss function, and learning rate scheduler\n",
    "optimizer = optim.Adam(model.parameters(), lr=0.0001, weight_decay=1e-4)\n",
    "loss_fn = nn.CrossEntropyLoss()\n",
    "scheduler = optim.lr_scheduler.ReduceLROnPlateau(optimizer, mode='min',\n",
    "                                                 factor=0.1, patience=3, verbose=True)\n"
   ],
   "metadata": {
    "collapsed": false,
    "ExecuteTime": {
     "end_time": "2024-06-02T16:06:14.104401700Z",
     "start_time": "2024-06-02T16:06:13.899856200Z"
    }
   },
   "execution_count": 94
  },
  {
   "cell_type": "code",
   "outputs": [
    {
     "name": "stdout",
     "output_type": "stream",
     "text": [
      "----------------------------------------------------------------\n",
      "        Layer (type)               Output Shape         Param #\n",
      "================================================================\n",
      "            Conv2d-1         [-1, 64, 114, 114]           9,408\n",
      "       BatchNorm2d-2         [-1, 64, 114, 114]             128\n",
      "              ReLU-3         [-1, 64, 114, 114]               0\n",
      "         MaxPool2d-4           [-1, 64, 57, 57]               0\n",
      "            Conv2d-5           [-1, 64, 57, 57]          36,864\n",
      "       BatchNorm2d-6           [-1, 64, 57, 57]             128\n",
      "              ReLU-7           [-1, 64, 57, 57]               0\n",
      "            Conv2d-8           [-1, 64, 57, 57]          36,864\n",
      "       BatchNorm2d-9           [-1, 64, 57, 57]             128\n",
      "             ReLU-10           [-1, 64, 57, 57]               0\n",
      "       BasicBlock-11           [-1, 64, 57, 57]               0\n",
      "           Conv2d-12           [-1, 64, 57, 57]          36,864\n",
      "      BatchNorm2d-13           [-1, 64, 57, 57]             128\n",
      "             ReLU-14           [-1, 64, 57, 57]               0\n",
      "           Conv2d-15           [-1, 64, 57, 57]          36,864\n",
      "      BatchNorm2d-16           [-1, 64, 57, 57]             128\n",
      "             ReLU-17           [-1, 64, 57, 57]               0\n",
      "       BasicBlock-18           [-1, 64, 57, 57]               0\n",
      "           Conv2d-19          [-1, 128, 29, 29]          73,728\n",
      "      BatchNorm2d-20          [-1, 128, 29, 29]             256\n",
      "             ReLU-21          [-1, 128, 29, 29]               0\n",
      "           Conv2d-22          [-1, 128, 29, 29]         147,456\n",
      "      BatchNorm2d-23          [-1, 128, 29, 29]             256\n",
      "           Conv2d-24          [-1, 128, 29, 29]           8,192\n",
      "      BatchNorm2d-25          [-1, 128, 29, 29]             256\n",
      "             ReLU-26          [-1, 128, 29, 29]               0\n",
      "       BasicBlock-27          [-1, 128, 29, 29]               0\n",
      "           Conv2d-28          [-1, 128, 29, 29]         147,456\n",
      "      BatchNorm2d-29          [-1, 128, 29, 29]             256\n",
      "             ReLU-30          [-1, 128, 29, 29]               0\n",
      "           Conv2d-31          [-1, 128, 29, 29]         147,456\n",
      "      BatchNorm2d-32          [-1, 128, 29, 29]             256\n",
      "             ReLU-33          [-1, 128, 29, 29]               0\n",
      "       BasicBlock-34          [-1, 128, 29, 29]               0\n",
      "           Conv2d-35          [-1, 256, 15, 15]         294,912\n",
      "      BatchNorm2d-36          [-1, 256, 15, 15]             512\n",
      "             ReLU-37          [-1, 256, 15, 15]               0\n",
      "           Conv2d-38          [-1, 256, 15, 15]         589,824\n",
      "      BatchNorm2d-39          [-1, 256, 15, 15]             512\n",
      "           Conv2d-40          [-1, 256, 15, 15]          32,768\n",
      "      BatchNorm2d-41          [-1, 256, 15, 15]             512\n",
      "             ReLU-42          [-1, 256, 15, 15]               0\n",
      "       BasicBlock-43          [-1, 256, 15, 15]               0\n",
      "           Conv2d-44          [-1, 256, 15, 15]         589,824\n",
      "      BatchNorm2d-45          [-1, 256, 15, 15]             512\n",
      "             ReLU-46          [-1, 256, 15, 15]               0\n",
      "           Conv2d-47          [-1, 256, 15, 15]         589,824\n",
      "      BatchNorm2d-48          [-1, 256, 15, 15]             512\n",
      "             ReLU-49          [-1, 256, 15, 15]               0\n",
      "       BasicBlock-50          [-1, 256, 15, 15]               0\n",
      "           Conv2d-51            [-1, 512, 8, 8]       1,179,648\n",
      "      BatchNorm2d-52            [-1, 512, 8, 8]           1,024\n",
      "             ReLU-53            [-1, 512, 8, 8]               0\n",
      "           Conv2d-54            [-1, 512, 8, 8]       2,359,296\n",
      "      BatchNorm2d-55            [-1, 512, 8, 8]           1,024\n",
      "           Conv2d-56            [-1, 512, 8, 8]         131,072\n",
      "      BatchNorm2d-57            [-1, 512, 8, 8]           1,024\n",
      "             ReLU-58            [-1, 512, 8, 8]               0\n",
      "       BasicBlock-59            [-1, 512, 8, 8]               0\n",
      "           Conv2d-60            [-1, 512, 8, 8]       2,359,296\n",
      "      BatchNorm2d-61            [-1, 512, 8, 8]           1,024\n",
      "             ReLU-62            [-1, 512, 8, 8]               0\n",
      "           Conv2d-63            [-1, 512, 8, 8]       2,359,296\n",
      "      BatchNorm2d-64            [-1, 512, 8, 8]           1,024\n",
      "             ReLU-65            [-1, 512, 8, 8]               0\n",
      "       BasicBlock-66            [-1, 512, 8, 8]               0\n",
      "AdaptiveAvgPool2d-67            [-1, 512, 1, 1]               0\n",
      "           Linear-68                   [-1, 43]          22,059\n",
      "================================================================\n",
      "Total params: 11,198,571\n",
      "Trainable params: 11,198,571\n",
      "Non-trainable params: 0\n",
      "----------------------------------------------------------------\n",
      "Input size (MB): 0.59\n",
      "Forward/backward pass size (MB): 67.01\n",
      "Params size (MB): 42.72\n",
      "Estimated Total Size (MB): 110.32\n",
      "----------------------------------------------------------------\n"
     ]
    }
   ],
   "source": [],
   "metadata": {
    "collapsed": false,
    "ExecuteTime": {
     "end_time": "2024-06-02T16:06:44.353247400Z",
     "start_time": "2024-06-02T16:06:44.162863300Z"
    }
   },
   "execution_count": 95
  },
  {
   "cell_type": "code",
   "outputs": [
    {
     "name": "stdout",
     "output_type": "stream",
     "text": [
      "Epoch 0 - Training Loss: 0.0045, Training Accuracy: 100.00%\n",
      "Epoch 0 - Validation Loss: 0.5596, Validation Accuracy: 83.45%\n"
     ]
    },
    {
     "ename": "KeyboardInterrupt",
     "evalue": "",
     "output_type": "error",
     "traceback": [
      "\u001B[1;31m---------------------------------------------------------------------------\u001B[0m",
      "\u001B[1;31mKeyboardInterrupt\u001B[0m                         Traceback (most recent call last)",
      "Cell \u001B[1;32mIn[64], line 1\u001B[0m\n\u001B[1;32m----> 1\u001B[0m \u001B[43mtrain\u001B[49m\u001B[43m(\u001B[49m\u001B[43mmodel\u001B[49m\u001B[43m,\u001B[49m\u001B[43m \u001B[49m\u001B[38;5;241;43m10\u001B[39;49m\u001B[43m,\u001B[49m\u001B[43m \u001B[49m\u001B[43moptimizer\u001B[49m\u001B[43m,\u001B[49m\u001B[43m \u001B[49m\u001B[43mloss_fn\u001B[49m\u001B[43m,\u001B[49m\u001B[43m \u001B[49m\u001B[43mtrain_dataloader\u001B[49m\u001B[43m,\u001B[49m\u001B[43m \u001B[49m\u001B[43mval_dataloader\u001B[49m\u001B[43m,\u001B[49m\u001B[43m \u001B[49m\u001B[43mdevice\u001B[49m\u001B[43m)\u001B[49m\n",
      "Cell \u001B[1;32mIn[63], line 10\u001B[0m, in \u001B[0;36mtrain\u001B[1;34m(model, number_of_epochs, optimizer, loss_fn, train_dataloader, val_dataloader, device)\u001B[0m\n\u001B[0;32m      7\u001B[0m val_losses \u001B[38;5;241m=\u001B[39m []\n\u001B[0;32m      9\u001B[0m \u001B[38;5;28;01mfor\u001B[39;00m epoch_index \u001B[38;5;129;01min\u001B[39;00m \u001B[38;5;28mrange\u001B[39m(n_epochs):\n\u001B[1;32m---> 10\u001B[0m     train_accuracy, train_loss \u001B[38;5;241m=\u001B[39m \u001B[43mtrain_one_epoch\u001B[49m\u001B[43m(\u001B[49m\u001B[43mepoch_index\u001B[49m\u001B[43m,\u001B[49m\u001B[43m \u001B[49m\u001B[43mmodel\u001B[49m\u001B[43m,\u001B[49m\u001B[43m \u001B[49m\u001B[43mtrain_dataloader\u001B[49m\u001B[43m,\u001B[49m\u001B[43m \u001B[49m\u001B[43moptimizer\u001B[49m\u001B[43m,\u001B[49m\u001B[43m \u001B[49m\u001B[43mloss_fn\u001B[49m\u001B[43m,\u001B[49m\u001B[43m \u001B[49m\u001B[43mdevice\u001B[49m\u001B[43m)\u001B[49m\n\u001B[0;32m     11\u001B[0m     val_accuracy, val_loss \u001B[38;5;241m=\u001B[39m get_validation_acc(epoch_index, model, val_dataloader, device)\n\u001B[0;32m     12\u001B[0m     train_acc\u001B[38;5;241m.\u001B[39mappend(train_accuracy)\n",
      "Cell \u001B[1;32mIn[39], line 19\u001B[0m, in \u001B[0;36mtrain_one_epoch\u001B[1;34m(epoch_index, model, dataloader, optimizer, loss_fn, device)\u001B[0m\n\u001B[0;32m     16\u001B[0m optimizer\u001B[38;5;241m.\u001B[39mstep()\n\u001B[0;32m     18\u001B[0m _, preds \u001B[38;5;241m=\u001B[39m torch\u001B[38;5;241m.\u001B[39mmax(outputs, \u001B[38;5;241m1\u001B[39m)\n\u001B[1;32m---> 19\u001B[0m correct_predictions \u001B[38;5;241m+\u001B[39m\u001B[38;5;241m=\u001B[39m \u001B[43m(\u001B[49m\u001B[43mpreds\u001B[49m\u001B[43m \u001B[49m\u001B[38;5;241;43m==\u001B[39;49m\u001B[43m \u001B[49m\u001B[43mlabels\u001B[49m\u001B[43m)\u001B[49m\u001B[38;5;241;43m.\u001B[39;49m\u001B[43msum\u001B[49m\u001B[43m(\u001B[49m\u001B[43m)\u001B[49m\u001B[38;5;241;43m.\u001B[39;49m\u001B[43mitem\u001B[49m\u001B[43m(\u001B[49m\u001B[43m)\u001B[49m\n\u001B[0;32m     20\u001B[0m total_samples \u001B[38;5;241m+\u001B[39m\u001B[38;5;241m=\u001B[39m labels\u001B[38;5;241m.\u001B[39msize(\u001B[38;5;241m0\u001B[39m)\n\u001B[0;32m     22\u001B[0m running_loss \u001B[38;5;241m+\u001B[39m\u001B[38;5;241m=\u001B[39m loss\u001B[38;5;241m.\u001B[39mitem()\n",
      "\u001B[1;31mKeyboardInterrupt\u001B[0m: "
     ]
    }
   ],
   "source": [
    "train_and_validation(model, 10, optimizer, loss_fn, train_dataloader, val_dataloader, device)"
   ],
   "metadata": {
    "collapsed": false,
    "ExecuteTime": {
     "end_time": "2024-06-02T14:46:41.549876Z",
     "start_time": "2024-06-02T14:46:25.133015300Z"
    }
   },
   "execution_count": 64
  },
  {
   "cell_type": "code",
   "outputs": [],
   "source": [],
   "metadata": {
    "collapsed": false
   }
  }
 ],
 "metadata": {
  "colab": {
   "gpuType": "T4",
   "provenance": [],
   "toc_visible": true
  },
  "kernelspec": {
   "name": "python3",
   "language": "python",
   "display_name": "Python 3 (ipykernel)"
  },
  "language_info": {
   "codemirror_mode": {
    "name": "ipython",
    "version": 3
   },
   "file_extension": ".py",
   "mimetype": "text/x-python",
   "name": "python",
   "nbconvert_exporter": "python",
   "pygments_lexer": "ipython3",
   "version": "3.8.16"
  }
 },
 "nbformat": 4,
 "nbformat_minor": 0
}
