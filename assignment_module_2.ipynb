{
 "cells": [
  {
   "cell_type": "markdown",
   "metadata": {
    "id": "MNBgGYg_lpVN"
   },
   "source": [
    "# Assignment Module 2: Product Classification\n",
    "\n",
    "The goal of this assignment is to implement a neural network that classifies smartphone pictures of products found in grocery stores. The assignment will be divided into two parts: first, you will be asked to implement from scratch your own neural network for image classification; then, you will fine-tune a pretrained network provided by PyTorch.\n"
   ]
  },
  {
   "cell_type": "markdown",
   "metadata": {
    "id": "dVTQUJ4uYH1w"
   },
   "source": [
    "## Preliminaries: the dataset\n",
    "\n",
    "The dataset you will be using contains natural images of products taken with a smartphone camera in different grocery stores:\n",
    "\n",
    "<p align=\"center\">\n",
    "  <img src=\"https://github.com/marcusklasson/GroceryStoreDataset/raw/master/sample_images/natural/Granny-Smith.jpg\" width=\"150\">\n",
    "  <img src=\"https://github.com/marcusklasson/GroceryStoreDataset/raw/master/sample_images/natural/Pink-Lady.jpg\" width=\"150\">\n",
    "  <img src=\"https://github.com/marcusklasson/GroceryStoreDataset/raw/master/sample_images/natural/Lemon.jpg\" width=\"150\">\n",
    "  <img src=\"https://github.com/marcusklasson/GroceryStoreDataset/raw/master/sample_images/natural/Banana.jpg\" width=\"150\">\n",
    "  <img src=\"https://github.com/marcusklasson/GroceryStoreDataset/raw/master/sample_images/natural/Vine-Tomato.jpg\" width=\"150\">\n",
    "</p>\n",
    "<p align=\"center\">\n",
    "  <img src=\"https://github.com/marcusklasson/GroceryStoreDataset/raw/master/sample_images/natural/Yellow-Onion.jpg\" width=\"150\">\n",
    "  <img src=\"https://github.com/marcusklasson/GroceryStoreDataset/raw/master/sample_images/natural/Green-Bell-Pepper.jpg\" width=\"150\">\n",
    "  <img src=\"https://github.com/marcusklasson/GroceryStoreDataset/raw/master/sample_images/natural/Arla-Standard-Milk.jpg\" width=\"150\">\n",
    "  <img src=\"https://github.com/marcusklasson/GroceryStoreDataset/raw/master/sample_images/natural/Oatly-Natural-Oatghurt.jpg\" width=\"150\">\n",
    "  <img src=\"https://github.com/marcusklasson/GroceryStoreDataset/raw/master/sample_images/natural/Alpro-Fresh-Soy-Milk.jpg\" width=\"150\">\n",
    "</p>\n",
    "\n",
    "The products belong to the following 43 classes:\n",
    "```\n",
    "0.  Apple\n",
    "1.  Avocado\n",
    "2.  Banana\n",
    "3.  Kiwi\n",
    "4.  Lemon\n",
    "5.  Lime\n",
    "6.  Mango\n",
    "7.  Melon\n",
    "8.  Nectarine\n",
    "9.  Orange\n",
    "10. Papaya\n",
    "11. Passion-Fruit\n",
    "12. Peach\n",
    "13. Pear\n",
    "14. Pineapple\n",
    "15. Plum\n",
    "16. Pomegranate\n",
    "17. Red-Grapefruit\n",
    "18. Satsumas\n",
    "19. Juice\n",
    "20. Milk\n",
    "21. Oatghurt\n",
    "22. Oat-Milk\n",
    "23. Sour-Cream\n",
    "24. Sour-Milk\n",
    "25. Soyghurt\n",
    "26. Soy-Milk\n",
    "27. Yoghurt\n",
    "28. Asparagus\n",
    "29. Aubergine\n",
    "30. Cabbage\n",
    "31. Carrots\n",
    "32. Cucumber\n",
    "33. Garlic\n",
    "34. Ginger\n",
    "35. Leek\n",
    "36. Mushroom\n",
    "37. Onion\n",
    "38. Pepper\n",
    "39. Potato\n",
    "40. Red-Beet\n",
    "41. Tomato\n",
    "42. Zucchini\n",
    "```\n",
    "\n",
    "The dataset is split into training (`train`), validation (`val`), and test (`test`) set."
   ]
  },
  {
   "cell_type": "markdown",
   "metadata": {
    "id": "1pdrmJRnJPd8"
   },
   "source": [
    "The following code cells download the dataset and define a `torch.utils.data.Dataset` class to access it. This `Dataset` class will be the starting point of your assignment: use it in your own code and build everything else around it."
   ]
  },
  {
   "cell_type": "code",
   "execution_count": 1,
   "metadata": {
    "id": "POMX_3x-_bZI",
    "ExecuteTime": {
     "end_time": "2024-06-01T17:53:56.281727500Z",
     "start_time": "2024-06-01T17:53:45.847193700Z"
    }
   },
   "outputs": [
    {
     "name": "stderr",
     "output_type": "stream",
     "text": [
      "Cloning into 'GroceryStoreDataset'...\n",
      "Updating files:  33% (1902/5717)\n",
      "Updating files:  34% (1944/5717)\n",
      "Updating files:  35% (2001/5717)\n",
      "Updating files:  36% (2059/5717)\n",
      "Updating files:  37% (2116/5717)\n",
      "Updating files:  38% (2173/5717)\n",
      "Updating files:  39% (2230/5717)\n",
      "Updating files:  40% (2287/5717)\n",
      "Updating files:  41% (2344/5717)\n",
      "Updating files:  42% (2402/5717)\n",
      "Updating files:  43% (2459/5717)\n",
      "Updating files:  44% (2516/5717)\n",
      "Updating files:  45% (2573/5717)\n",
      "Updating files:  46% (2630/5717)\n",
      "Updating files:  47% (2687/5717)\n",
      "Updating files:  48% (2745/5717)\n",
      "Updating files:  49% (2802/5717)\n",
      "Updating files:  50% (2859/5717)\n",
      "Updating files:  51% (2916/5717)\n",
      "Updating files:  52% (2973/5717)\n",
      "Updating files:  53% (3031/5717)\n",
      "Updating files:  54% (3088/5717)\n",
      "Updating files:  55% (3145/5717)\n",
      "Updating files:  56% (3202/5717)\n",
      "Updating files:  57% (3259/5717)\n",
      "Updating files:  58% (3316/5717)\n",
      "Updating files:  59% (3374/5717)\n",
      "Updating files:  60% (3431/5717)\n",
      "Updating files:  61% (3488/5717)\n",
      "Updating files:  62% (3545/5717)\n",
      "Updating files:  63% (3602/5717)\n",
      "Updating files:  64% (3659/5717)\n",
      "Updating files:  65% (3717/5717)\n",
      "Updating files:  66% (3774/5717)\n",
      "Updating files:  67% (3831/5717)\n",
      "Updating files:  68% (3888/5717)\n",
      "Updating files:  69% (3945/5717)\n",
      "Updating files:  70% (4002/5717)\n",
      "Updating files:  71% (4060/5717)\n",
      "Updating files:  72% (4117/5717)\n",
      "Updating files:  72% (4119/5717)\n",
      "Updating files:  73% (4174/5717)\n",
      "Updating files:  74% (4231/5717)\n",
      "Updating files:  75% (4288/5717)\n",
      "Updating files:  76% (4345/5717)\n",
      "Updating files:  77% (4403/5717)\n",
      "Updating files:  78% (4460/5717)\n",
      "Updating files:  79% (4517/5717)\n",
      "Updating files:  80% (4574/5717)\n",
      "Updating files:  81% (4631/5717)\n",
      "Updating files:  82% (4688/5717)\n",
      "Updating files:  83% (4746/5717)\n",
      "Updating files:  84% (4803/5717)\n",
      "Updating files:  85% (4860/5717)\n",
      "Updating files:  86% (4917/5717)\n",
      "Updating files:  87% (4974/5717)\n",
      "Updating files:  88% (5031/5717)\n",
      "Updating files:  89% (5089/5717)\n",
      "Updating files:  90% (5146/5717)\n",
      "Updating files:  91% (5203/5717)\n",
      "Updating files:  92% (5260/5717)\n",
      "Updating files:  93% (5317/5717)\n",
      "Updating files:  94% (5374/5717)\n",
      "Updating files:  95% (5432/5717)\n",
      "Updating files:  96% (5489/5717)\n",
      "Updating files:  97% (5546/5717)\n",
      "Updating files:  98% (5603/5717)\n",
      "Updating files:  99% (5660/5717)\n",
      "Updating files: 100% (5717/5717)\n",
      "Updating files: 100% (5717/5717), done.\n"
     ]
    }
   ],
   "source": [
    "!git clone https://github.com/marcusklasson/GroceryStoreDataset.git"
   ]
  },
  {
   "cell_type": "code",
   "execution_count": 66,
   "metadata": {
    "id": "hiF8xGEYlsu8",
    "ExecuteTime": {
     "end_time": "2024-06-02T00:25:01.937233200Z",
     "start_time": "2024-06-02T00:25:01.930729Z"
    }
   },
   "outputs": [],
   "source": [
    "import torch\n",
    "from pathlib import Path\n",
    "from PIL import Image\n",
    "from torch import Tensor\n",
    "from torch.utils.data import Dataset, DataLoader\n",
    "from typing import List, Tuple\n",
    "import torchvision.transforms as T\n",
    "import matplotlib.pyplot as plt\n"
   ]
  },
  {
   "cell_type": "code",
   "execution_count": 54,
   "metadata": {
    "id": "jROSO2qVDxdD",
    "ExecuteTime": {
     "end_time": "2024-06-02T00:19:20.131377200Z",
     "start_time": "2024-06-02T00:19:20.032079600Z"
    }
   },
   "outputs": [],
   "source": [
    "class GroceryStoreDataset(Dataset):\n",
    "\n",
    "    def __init__(self, split: str, transform=None) -> None:\n",
    "        super().__init__()\n",
    "\n",
    "        self.root = Path(\"GroceryStoreDataset/dataset\")\n",
    "        self.split = split\n",
    "        self.paths, self.labels = self.read_file()\n",
    "\n",
    "        self.transform = transform\n",
    "\n",
    "    def __len__(self) -> int:\n",
    "        return len(self.labels)\n",
    "\n",
    "    def __getitem__(self, idx) -> Tuple[Tensor, int]:\n",
    "        img = Image.open(self.root / self.paths[idx])\n",
    "        label = self.labels[idx]\n",
    "\n",
    "        if self.transform:\n",
    "            img = self.transform(img)\n",
    "\n",
    "        return img, label\n",
    "\n",
    "    def read_file(self) -> Tuple[List[str], List[int]]:\n",
    "        paths = []\n",
    "        labels = []\n",
    "\n",
    "        with open(self.root / f\"{self.split}.txt\") as f:\n",
    "            for line in f:\n",
    "                # path, fine-grained class, coarse-grained class\n",
    "                path, _, label = line.replace(\"\\n\", \"\").split(\", \")\n",
    "                paths.append(path), labels.append(int(label))\n",
    "\n",
    "        return paths, labels\n",
    "\n",
    "    def get_num_classes(self) -> int:\n",
    "        return max(self.labels) + 1"
   ]
  },
  {
   "cell_type": "markdown",
   "metadata": {
    "id": "yBch3dpwNSsW"
   },
   "source": [
    "## Part 1: design your own network\n",
    "\n",
    "Your goal is to implement a convolutional neural network for image classification and train it on `GroceryStoreDataset`. You should consider yourselves satisfied once you obtain a classification accuracy on the **validation** split of **around 60%**. You are free to achieve that however you want, except for a few rules you must follow:\n",
    "\n",
    "- You **cannot** simply instantiate an off-the-self PyTorch network. Instead, you must construct your network as a composition of existing PyTorch layers. In more concrete terms, you can use e.g. `torch.nn.Linear`, but you **cannot** use e.g. `torchvision.models.alexnet`.\n",
    "\n",
    "- Justify every *design choice* you make. Design choices include network architecture, training hyperparameters, and, possibly, dataset preprocessing steps. You can either (i) start from the simplest convolutional network you can think of and add complexity one step at a time, while showing how each step gets you closer to the target ~60%, or (ii) start from a model that is already able to achieve the desired accuracy and show how, by removing some of its components, its performance drops (i.e. an *ablation study*). You can *show* your results/improvements however you want: training plots, console-printed values or tables, or whatever else your heart desires: the clearer, the better.\n",
    "\n",
    "Don't be too concerned with your network performance: the ~60% is just to give you an idea of when to stop. Keep in mind that a thoroughly justified model with lower accuracy will be rewarded **more** points than a poorly experimentally validated model with higher accuracy."
   ]
  },
  {
   "cell_type": "code",
   "outputs": [],
   "source": [
    "transform = T.Compose([\n",
    "    T.Resize((64, 64)),  # Resize image to 64x64\n",
    "    T.ToTensor(),        # Convert to tensor\n",
    "])\n",
    "\n",
    "# Create Datasets\n",
    "train_dataset = GroceryStoreDataset(split='train', transform=transform)\n",
    "val_dataset = GroceryStoreDataset(split='val', transform=transform)\n",
    "\n",
    "# Create DataLoaders\n",
    "train_dataloader = DataLoader(train_dataset, batch_size=32, shuffle=True)\n",
    "val_dataloader = DataLoader(val_dataset, batch_size=32, shuffle=False)"
   ],
   "metadata": {
    "collapsed": false,
    "ExecuteTime": {
     "end_time": "2024-06-02T00:19:21.649089300Z",
     "start_time": "2024-06-02T00:19:21.643913100Z"
    }
   },
   "execution_count": 55
  },
  {
   "cell_type": "code",
   "outputs": [],
   "source": [
    "import torch.nn as nn\n",
    "import torch.nn.functional as F\n",
    "\n",
    "class SimpleCNN(nn.Module):\n",
    "    def __init__(self, num_classes=43):\n",
    "        super(SimpleCNN, self).__init__()\n",
    "        self.conv1 = nn.Conv2d(in_channels=3, out_channels=16, kernel_size=3, padding=1)\n",
    "        self.conv2 = nn.Conv2d(in_channels=16, out_channels=32, kernel_size=3, stride=1, padding=1)\n",
    "        self.conv3 = nn.Conv2d(in_channels=32, out_channels=64, kernel_size=3, stride=1, padding=1)\n",
    "        \n",
    "        self.pool = nn.MaxPool2d(kernel_size=2, stride=2, padding=0)\n",
    "        self.flatten = nn.Flatten()\n",
    "        \n",
    "        self.fc1 = nn.Linear(in_features=64*8*8 , out_features=128)\n",
    "        self.fc2 = nn.Linear(in_features=128, out_features=num_classes)\n",
    "    \n",
    "    def forward(self, x):\n",
    "        x = self.pool(F.relu(self.conv1(x)))\n",
    "        x = self.pool(F.relu(self.conv2(x)))\n",
    "        x = self.pool(F.relu(self.conv3(x)))\n",
    "        x = self.flatten(x)\n",
    "        x = F.relu(self.fc1(x))\n",
    "        x = self.fc2(x)\n",
    "        return x\n",
    "            "
   ],
   "metadata": {
    "collapsed": false,
    "ExecuteTime": {
     "end_time": "2024-06-02T00:25:40.881198200Z",
     "start_time": "2024-06-02T00:25:40.873206400Z"
    }
   },
   "execution_count": 67
  },
  {
   "cell_type": "code",
   "outputs": [],
   "source": [
    "device = torch.device('cuda' if torch.cuda.is_available() else 'cpu')\n",
    "model = SimpleCNN().to(device)"
   ],
   "metadata": {
    "collapsed": false,
    "ExecuteTime": {
     "end_time": "2024-06-02T00:25:42.472228600Z",
     "start_time": "2024-06-02T00:25:42.458307300Z"
    }
   },
   "execution_count": 68
  },
  {
   "cell_type": "code",
   "outputs": [],
   "source": [
    "optimizer = torch.optim.Adam(model.parameters(), lr=0.001)\n",
    "loss_fn = nn.CrossEntropyLoss()"
   ],
   "metadata": {
    "collapsed": false,
    "ExecuteTime": {
     "end_time": "2024-06-02T00:25:42.705282400Z",
     "start_time": "2024-06-02T00:25:42.686283500Z"
    }
   },
   "execution_count": 69
  },
  {
   "cell_type": "code",
   "outputs": [],
   "source": [
    "def train_one_epoch(epoch_index, model, dataloader, optimizer, loss_fn, device):\n",
    "    model.train()\n",
    "    running_loss = 0.0\n",
    "    correct_predictions = 0\n",
    "    total_samples = 0\n",
    "\n",
    "    for i, data in enumerate(dataloader):\n",
    "        inputs, labels = data\n",
    "        inputs, labels = inputs.to(device), labels.to(device)\n",
    "        \n",
    "        optimizer.zero_grad()\n",
    "        \n",
    "        outputs = model(inputs)\n",
    "        loss = loss_fn(outputs, labels)\n",
    "        loss.backward()\n",
    "        optimizer.step()\n",
    "\n",
    "        _, preds = torch.max(outputs, 1)\n",
    "        correct_predictions += (preds == labels).sum().item()\n",
    "        total_samples += labels.size(0)\n",
    "\n",
    "        running_loss += loss.item()\n",
    "    \n",
    "    epoch_loss = running_loss / len(dataloader)\n",
    "    accuracy = correct_predictions / total_samples * 100\n",
    "    print(f'Epoch {epoch_index} - Training Loss: {epoch_loss:.4f}, Training Accuracy: {accuracy:.2f}%')\n",
    "    \n",
    "    return accuracy, epoch_loss"
   ],
   "metadata": {
    "collapsed": false,
    "ExecuteTime": {
     "end_time": "2024-06-02T00:25:42.936814500Z",
     "start_time": "2024-06-02T00:25:42.931915600Z"
    }
   },
   "execution_count": 70
  },
  {
   "cell_type": "code",
   "outputs": [],
   "source": [
    "def get_validation_acc(epoch_index, model, dataloader, device):\n",
    "    model.eval()\n",
    "    correct_predictions = 0\n",
    "    total_samples = 0\n",
    "    running_loss = 0.0\n",
    "\n",
    "    with torch.no_grad():\n",
    "        for i, data in enumerate(dataloader):\n",
    "            inputs, labels = data\n",
    "            inputs, labels = inputs.to(device), labels.to(device)\n",
    "\n",
    "            outputs = model(inputs)\n",
    "            loss = loss_fn(outputs, labels)\n",
    "            running_loss += loss.item()\n",
    "\n",
    "            _, preds = torch.max(outputs, 1)\n",
    "            correct_predictions += (preds == labels).sum().item()\n",
    "            total_samples += labels.size(0)\n",
    "    \n",
    "    epoch_loss = running_loss / len(dataloader)\n",
    "    accuracy = correct_predictions / total_samples * 100\n",
    "    print(f'Epoch {epoch_index} - Validation Loss: {epoch_loss:.4f}, Validation Accuracy: {accuracy:.2f}%')\n",
    "    \n",
    "    return accuracy, epoch_loss"
   ],
   "metadata": {
    "collapsed": false,
    "ExecuteTime": {
     "end_time": "2024-06-02T00:25:43.204692900Z",
     "start_time": "2024-06-02T00:25:43.183530400Z"
    }
   },
   "execution_count": 71
  },
  {
   "cell_type": "code",
   "outputs": [
    {
     "name": "stdout",
     "output_type": "stream",
     "text": [
      "Epoch 0 - Training Loss: 3.2668, Training Accuracy: 14.39%\n",
      "Epoch 0 - Validation Loss: 3.0791, Validation Accuracy: 17.91%\n",
      "Epoch 1 - Training Loss: 2.5447, Training Accuracy: 26.70%\n",
      "Epoch 1 - Validation Loss: 3.0677, Validation Accuracy: 19.59%\n",
      "Epoch 2 - Training Loss: 2.0810, Training Accuracy: 36.17%\n",
      "Epoch 2 - Validation Loss: 3.0046, Validation Accuracy: 22.30%\n",
      "Epoch 3 - Training Loss: 1.7429, Training Accuracy: 44.55%\n",
      "Epoch 3 - Validation Loss: 2.5241, Validation Accuracy: 23.31%\n",
      "Epoch 4 - Training Loss: 1.4281, Training Accuracy: 52.95%\n",
      "Epoch 4 - Validation Loss: 2.6128, Validation Accuracy: 29.73%\n",
      "Epoch 5 - Training Loss: 1.1413, Training Accuracy: 62.77%\n",
      "Epoch 5 - Validation Loss: 2.5992, Validation Accuracy: 33.11%\n",
      "Epoch 6 - Training Loss: 0.9413, Training Accuracy: 68.37%\n",
      "Epoch 6 - Validation Loss: 2.9504, Validation Accuracy: 28.38%\n",
      "Epoch 7 - Training Loss: 0.7665, Training Accuracy: 74.09%\n",
      "Epoch 7 - Validation Loss: 3.2342, Validation Accuracy: 31.08%\n",
      "Epoch 8 - Training Loss: 0.6722, Training Accuracy: 78.03%\n",
      "Epoch 8 - Validation Loss: 3.0938, Validation Accuracy: 31.08%\n",
      "Epoch 9 - Training Loss: 0.5845, Training Accuracy: 80.08%\n",
      "Epoch 9 - Validation Loss: 2.8534, Validation Accuracy: 36.15%\n",
      "Epoch 10 - Training Loss: 0.4986, Training Accuracy: 82.77%\n",
      "Epoch 10 - Validation Loss: 3.4866, Validation Accuracy: 28.38%\n",
      "Epoch 11 - Training Loss: 0.4766, Training Accuracy: 84.02%\n",
      "Epoch 11 - Validation Loss: 3.4188, Validation Accuracy: 29.39%\n",
      "Epoch 12 - Training Loss: 0.3595, Training Accuracy: 88.18%\n",
      "Epoch 12 - Validation Loss: 3.4821, Validation Accuracy: 32.43%\n",
      "Epoch 13 - Training Loss: 0.2697, Training Accuracy: 91.59%\n",
      "Epoch 13 - Validation Loss: 4.1185, Validation Accuracy: 30.07%\n",
      "Epoch 14 - Training Loss: 0.1962, Training Accuracy: 93.41%\n",
      "Epoch 14 - Validation Loss: 4.1393, Validation Accuracy: 33.11%\n",
      "Epoch 15 - Training Loss: 0.1430, Training Accuracy: 95.95%\n",
      "Epoch 15 - Validation Loss: 4.4765, Validation Accuracy: 30.41%\n",
      "Epoch 16 - Training Loss: 0.1080, Training Accuracy: 96.63%\n",
      "Epoch 16 - Validation Loss: 4.8677, Validation Accuracy: 32.09%\n",
      "Epoch 17 - Training Loss: 0.1406, Training Accuracy: 95.45%\n",
      "Epoch 17 - Validation Loss: 5.1093, Validation Accuracy: 29.39%\n",
      "Epoch 18 - Training Loss: 0.1030, Training Accuracy: 97.20%\n",
      "Epoch 18 - Validation Loss: 4.9958, Validation Accuracy: 30.41%\n",
      "Epoch 19 - Training Loss: 0.0880, Training Accuracy: 97.23%\n",
      "Epoch 19 - Validation Loss: 5.4178, Validation Accuracy: 32.43%\n"
     ]
    }
   ],
   "source": [
    "n_epochs = 20\n",
    "train_acc = []\n",
    "val_acc = []\n",
    "train_losses = []\n",
    "val_losses = []\n",
    "\n",
    "for epoch_index in range(n_epochs):\n",
    "    train_accuracy, train_loss = train_one_epoch(epoch_index, model, train_dataloader, optimizer, loss_fn, device)\n",
    "    val_accuracy, val_loss = get_validation_acc(epoch_index, model, val_dataloader, device)\n",
    "    \n",
    "    train_acc.append(train_accuracy)\n",
    "    val_acc.append(val_accuracy)\n",
    "    train_losses.append(train_loss)\n",
    "    val_losses.append(val_loss)\n",
    "    "
   ],
   "metadata": {
    "collapsed": false,
    "ExecuteTime": {
     "end_time": "2024-06-02T00:27:23.441289600Z",
     "start_time": "2024-06-02T00:25:43.641148100Z"
    }
   },
   "execution_count": 72
  },
  {
   "cell_type": "code",
   "outputs": [
    {
     "data": {
      "text/plain": "<Figure size 1400x700 with 2 Axes>",
      "image/png": "[encoded data removed]"
     },
     "metadata": {},
     "output_type": "display_data"
    }
   ],
   "source": [
    "# Plotting the accuracies and losses\n",
    "plt.figure(figsize=(14, 7))\n",
    "\n",
    "# Plot accuracy\n",
    "plt.plot(range(n_epochs), train_acc, label='Training Accuracy')\n",
    "plt.plot(range(n_epochs), val_acc, label='Validation Accuracy')\n",
    "plt.xlabel('Epochs')\n",
    "plt.ylabel('Accuracy (%)')\n",
    "plt.title('Training and Validation Accuracy')\n",
    "plt.legend()\n",
    "\n",
    "plt.show()"
   ],
   "metadata": {
    "collapsed": false,
    "ExecuteTime": {
     "end_time": "2024-06-02T00:24:29.947380200Z",
     "start_time": "2024-06-02T00:24:29.207629900Z"
    }
   },
   "execution_count": 65
  },
  {
   "cell_type": "markdown",
   "metadata": {
    "id": "gkWEqSPoUIL3"
   },
   "source": [
    "## Part 2: fine-tune an existing network\n",
    "\n",
    "Your goal is to fine-tune a pretrained **ResNet-18** model on `GroceryStoreDataset`. Use the implementation provided by PyTorch, do not implement it yourselves! (i.e. exactly what you **could not** do in the first part of the assignment). Specifically, you must use the PyTorch ResNet-18 model pretrained on ImageNet-1K (V1). Divide your fine-tuning into two parts:\n",
    "\n",
    "1. First, fine-tune the Resnet-18 with the same training hyperparameters you used for your best model in the first part of the assignment.\n",
    "1. Then, tweak the training hyperparameters in order to increase the accuracy on the validation split of `GroceryStoreDataset`. Justify your choices by analyzing the training plots and/or citing sources that guided you in your decisions (papers, blog posts, YouTube videos, or whatever else you find enlightening). You should consider yourselves satisfied once you obtain a classification accuracy on the **validation** split **between 80 and 90%**."
   ]
  },
  {
   "cell_type": "code",
   "outputs": [],
   "source": [],
   "metadata": {
    "collapsed": false
   }
  }
 ],
 "metadata": {
  "colab": {
   "gpuType": "T4",
   "provenance": [],
   "toc_visible": true
  },
  "kernelspec": {
   "name": "python3",
   "language": "python",
   "display_name": "Python 3 (ipykernel)"
  },
  "language_info": {
   "codemirror_mode": {
    "name": "ipython",
    "version": 3
   },
   "file_extension": ".py",
   "mimetype": "text/x-python",
   "name": "python",
   "nbconvert_exporter": "python",
   "pygments_lexer": "ipython3",
   "version": "3.8.16"
  }
 },
 "nbformat": 4,
 "nbformat_minor": 0
}
